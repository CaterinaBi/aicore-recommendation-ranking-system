{
 "cells": [
  {
   "cell_type": "markdown",
   "metadata": {},
   "source": [
    "## Label extraction for classification.\n",
    "\n",
    "The `tabular_data/` directory contains two files: `Images.csv` and `Products.csv`. The `Images.csv` file has `id` and `product_id` columns. The id corresponds to the fliename of the image for the respective product (`product_id`). \n",
    "\n",
    "Here, we will assign a label to each image based on its `category`."
   ]
  },
  {
   "cell_type": "markdown",
   "metadata": {},
   "source": [
    "### Merging `Images.cvs` and `Products.cvs`"
   ]
  }
 ],
 "metadata": {
  "language_info": {
   "name": "python"
  },
  "orig_nbformat": 4
 },
 "nbformat": 4,
 "nbformat_minor": 2
}
